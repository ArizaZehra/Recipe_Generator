{
 "cells": [
  {
   "cell_type": "code",
   "execution_count": 1,
   "id": "acc799f2",
   "metadata": {},
   "outputs": [
    {
     "name": "stdout",
     "output_type": "stream",
     "text": [
      "Requirement already satisfied: openai in e:\\anaconda\\lib\\site-packages (0.27.8)\n",
      "Requirement already satisfied: aiohttp in e:\\anaconda\\lib\\site-packages (from openai) (3.8.4)\n",
      "Requirement already satisfied: requests>=2.20 in e:\\anaconda\\lib\\site-packages (from openai) (2.28.1)\n",
      "Requirement already satisfied: tqdm in e:\\anaconda\\lib\\site-packages (from openai) (4.64.1)\n",
      "Requirement already satisfied: certifi>=2017.4.17 in e:\\anaconda\\lib\\site-packages (from requests>=2.20->openai) (2022.9.14)\n",
      "Requirement already satisfied: idna<4,>=2.5 in e:\\anaconda\\lib\\site-packages (from requests>=2.20->openai) (3.3)\n",
      "Requirement already satisfied: urllib3<1.27,>=1.21.1 in e:\\anaconda\\lib\\site-packages (from requests>=2.20->openai) (1.26.11)\n",
      "Requirement already satisfied: charset-normalizer<3,>=2 in e:\\anaconda\\lib\\site-packages (from requests>=2.20->openai) (2.0.4)\n",
      "Requirement already satisfied: yarl<2.0,>=1.0 in e:\\anaconda\\lib\\site-packages (from aiohttp->openai) (1.9.2)\n",
      "Requirement already satisfied: async-timeout<5.0,>=4.0.0a3 in e:\\anaconda\\lib\\site-packages (from aiohttp->openai) (4.0.2)\n",
      "Requirement already satisfied: aiosignal>=1.1.2 in e:\\anaconda\\lib\\site-packages (from aiohttp->openai) (1.3.1)\n",
      "Requirement already satisfied: frozenlist>=1.1.1 in e:\\anaconda\\lib\\site-packages (from aiohttp->openai) (1.3.3)\n",
      "Requirement already satisfied: multidict<7.0,>=4.5 in e:\\anaconda\\lib\\site-packages (from aiohttp->openai) (6.0.4)\n",
      "Requirement already satisfied: attrs>=17.3.0 in e:\\anaconda\\lib\\site-packages (from aiohttp->openai) (21.4.0)\n",
      "Requirement already satisfied: colorama in e:\\anaconda\\lib\\site-packages (from tqdm->openai) (0.4.5)\n",
      "Requirement already satisfied: speechrecognition in e:\\anaconda\\lib\\site-packages (3.10.0)\n",
      "Requirement already satisfied: requests>=2.26.0 in e:\\anaconda\\lib\\site-packages (from speechrecognition) (2.28.1)\n",
      "Requirement already satisfied: urllib3<1.27,>=1.21.1 in e:\\anaconda\\lib\\site-packages (from requests>=2.26.0->speechrecognition) (1.26.11)\n",
      "Requirement already satisfied: idna<4,>=2.5 in e:\\anaconda\\lib\\site-packages (from requests>=2.26.0->speechrecognition) (3.3)\n",
      "Requirement already satisfied: certifi>=2017.4.17 in e:\\anaconda\\lib\\site-packages (from requests>=2.26.0->speechrecognition) (2022.9.14)\n",
      "Requirement already satisfied: charset-normalizer<3,>=2 in e:\\anaconda\\lib\\site-packages (from requests>=2.26.0->speechrecognition) (2.0.4)\n"
     ]
    }
   ],
   "source": [
    "!pip install openai\n",
    "!pip install speechrecognition"
   ]
  },
  {
   "cell_type": "code",
   "execution_count": 4,
   "id": "62ff28dc",
   "metadata": {},
   "outputs": [
    {
     "name": "stdout",
     "output_type": "stream",
     "text": [
      "Speak the ingredients without any seperators:\n",
      "Orange cauliflower spinach vinegar\n",
      "Generated Recipe:\n",
      "Orange Cauliflower Spinach Stir-Fry\n",
      "\n",
      "Ingredients:\n",
      "\n",
      "- 1 head of cauliflower, cut into florets\n",
      "- 2 oranges, peeled and cut into wedges\n",
      "- 2 cups spinach, chopped\n",
      "- 2 tablespoons vegetable oil\n",
      "- 2 tablespoons rice vinegar\n",
      "- 2 cloves garlic, minced\n",
      "- 1 teaspoon ginger, minced\n",
      "- Salt and pepper to taste\n",
      "\n",
      "Instructions:\n",
      "\n",
      "1. Heat oil in a large skillet or wok over medium-high heat.\n",
      "\n",
      "2. Add cauliflower and cook for 4-5 minutes, stirring occasionally.\n",
      "\n",
      "3. Add orange wedges, spinach, garlic, and ginger and stir-fry for an additional 3-4 minutes.\n",
      "\n",
      "4. Add rice vinegar, salt, and pepper and stir-fry for another 1-2 minutes, or until vegetables are cooked through.\n",
      "\n",
      "5. Serve hot and enjoy!\n"
     ]
    }
   ],
   "source": [
    "import openai # To access the OpenAI GPT-3 language model.\n",
    "import speech_recognition as sr # To provides speech recognition capabilities in Python.\n",
    "\n",
    "# Enter your API Key\n",
    "openai.api_key = 'YOUR API KEY'\n",
    "\n",
    "# Function to generate a recipe using OpenAI's model\n",
    "def recipe_generator(ingredients):\n",
    "    # The prompt will be used to instruct the AI model to generate a recipe using the given ingredients.\n",
    "    prompt = f\"Generate a recipe using the following ingredients: {', '.join(ingredients)}.\"\n",
    "    response = openai.Completion.create(\n",
    "        engine='text-davinci-003', # Using davinci model \n",
    "        prompt=prompt, # Given input\n",
    "        max_tokens=200, # Limits the length of the generated recipe to 200 tokens (words or characters).\n",
    "        temperature=0.7, # Controls the randomness of the generated text. Higher values result in more randomness.  \n",
    "        n=1, # Specifies that only one completion (recipe) should be generated.\n",
    "        stop=None, # Specifies that the completion should not stop at any specific sequence of text.\n",
    "        timeout=10 # Sets a maximum time of 10 seconds for the completion request.\n",
    "    )\n",
    "    # Storing the generated recipe from the API response and removes any leading or trailing whitespace.\n",
    "    recipe = response.choices[0].text.strip()\n",
    "    # Return the recipe\n",
    "    return recipe\n",
    "\n",
    "# Function to convert speech to text\n",
    "def speech_to_text():\n",
    "    r = sr.Recognizer()\n",
    "    # Capturing audio from the default system microphone using the sr.Microphone() class and assigns it to the source variable.\n",
    "    with sr.Microphone() as source:\n",
    "        print(\"Speak the ingredients without any seperators:\")\n",
    "        # Capture the audio input from the microphone and store it in the audio variable.\n",
    "        audio = r.listen(source)\n",
    "    try:\n",
    "        # Recognize the speech in the captured audio using the Google Speech Recognition API \n",
    "        text = r.recognize_google(audio)\n",
    "        print(text)\n",
    "        return text\n",
    "    except sr.UnknownValueError:\n",
    "        print(\"Unable to recognize speech.\")\n",
    "    except sr.RequestError as e:\n",
    "        print(f\"Error: {str(e)}\")\n",
    "\n",
    "# Get user input for ingredients through speech\n",
    "user_input = speech_to_text()\n",
    "# Store the ingredients in a list\n",
    "user_ingredients = user_input.split()\n",
    "\n",
    "# Generate recipe based on user ingredients\n",
    "recipe = recipe_generator(user_ingredients)\n",
    "\n",
    "# Print the generated recipe\n",
    "print(\"Generated Recipe:\")\n",
    "print(recipe)\n"
   ]
  },
  {
   "cell_type": "code",
   "execution_count": null,
   "id": "b598800d",
   "metadata": {},
   "outputs": [],
   "source": []
  },
  {
   "cell_type": "code",
   "execution_count": null,
   "id": "afedb5c8",
   "metadata": {},
   "outputs": [],
   "source": []
  }
 ],
 "metadata": {
  "kernelspec": {
   "display_name": "Python 3 (ipykernel)",
   "language": "python",
   "name": "python3"
  },
  "language_info": {
   "codemirror_mode": {
    "name": "ipython",
    "version": 3
   },
   "file_extension": ".py",
   "mimetype": "text/x-python",
   "name": "python",
   "nbconvert_exporter": "python",
   "pygments_lexer": "ipython3",
   "version": "3.9.13"
  }
 },
 "nbformat": 4,
 "nbformat_minor": 5
}
