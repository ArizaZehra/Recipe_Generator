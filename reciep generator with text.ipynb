{
 "cells": [
  {
   "cell_type": "code",
   "execution_count": 1,
   "id": "d362e8ab",
   "metadata": {},
   "outputs": [
    {
     "name": "stdout",
     "output_type": "stream",
     "text": [
      "Collecting openai\n",
      "  Downloading openai-0.27.8-py3-none-any.whl (73 kB)\n",
      "     ---------------------------------------- 73.6/73.6 kB 2.0 MB/s eta 0:00:00\n",
      "Requirement already satisfied: requests>=2.20 in e:\\anaconda\\lib\\site-packages (from openai) (2.28.1)\n",
      "Collecting aiohttp\n",
      "  Using cached aiohttp-3.8.4-cp39-cp39-win_amd64.whl (323 kB)\n",
      "Requirement already satisfied: tqdm in e:\\anaconda\\lib\\site-packages (from openai) (4.64.1)\n",
      "Requirement already satisfied: urllib3<1.27,>=1.21.1 in e:\\anaconda\\lib\\site-packages (from requests>=2.20->openai) (1.26.11)\n",
      "Requirement already satisfied: idna<4,>=2.5 in e:\\anaconda\\lib\\site-packages (from requests>=2.20->openai) (3.3)\n",
      "Requirement already satisfied: charset-normalizer<3,>=2 in e:\\anaconda\\lib\\site-packages (from requests>=2.20->openai) (2.0.4)\n",
      "Requirement already satisfied: certifi>=2017.4.17 in e:\\anaconda\\lib\\site-packages (from requests>=2.20->openai) (2022.9.14)\n",
      "Collecting frozenlist>=1.1.1\n",
      "  Using cached frozenlist-1.3.3-cp39-cp39-win_amd64.whl (34 kB)\n",
      "Collecting async-timeout<5.0,>=4.0.0a3\n",
      "  Using cached async_timeout-4.0.2-py3-none-any.whl (5.8 kB)\n",
      "Requirement already satisfied: attrs>=17.3.0 in e:\\anaconda\\lib\\site-packages (from aiohttp->openai) (21.4.0)\n",
      "Collecting multidict<7.0,>=4.5\n",
      "  Using cached multidict-6.0.4-cp39-cp39-win_amd64.whl (28 kB)\n",
      "Collecting aiosignal>=1.1.2\n",
      "  Using cached aiosignal-1.3.1-py3-none-any.whl (7.6 kB)\n",
      "Collecting yarl<2.0,>=1.0\n",
      "  Using cached yarl-1.9.2-cp39-cp39-win_amd64.whl (61 kB)\n",
      "Requirement already satisfied: colorama in e:\\anaconda\\lib\\site-packages (from tqdm->openai) (0.4.5)\n",
      "Installing collected packages: multidict, frozenlist, async-timeout, yarl, aiosignal, aiohttp, openai\n",
      "Successfully installed aiohttp-3.8.4 aiosignal-1.3.1 async-timeout-4.0.2 frozenlist-1.3.3 multidict-6.0.4 openai-0.27.8 yarl-1.9.2\n"
     ]
    }
   ],
   "source": [
    "!pip install openai"
   ]
  },
  {
   "cell_type": "code",
   "execution_count": 2,
   "id": "e88f6212",
   "metadata": {},
   "outputs": [
    {
     "name": "stdout",
     "output_type": "stream",
     "text": [
      "Enter the ingredients (separate each ingredient with a space): Potatoes,Milk,Fruits,Egg,Eggplant\n",
      "Generated Recipe:\n",
      "Fruity Eggplant Potato Omelette\n",
      "\n",
      "Ingredients:\n",
      "- 2 large potatoes, peeled and diced\n",
      "- 1/2 cup milk\n",
      "- 1/2 cup of your favorite fruits, such as apples, oranges, or berries\n",
      "- 2 eggs\n",
      "- 1/2 medium eggplant, diced\n",
      "- 2 tablespoons butter\n",
      "- Salt and pepper, to taste\n",
      "\n",
      "Instructions:\n",
      "1. Preheat oven to 375°F.\n",
      "2. In a large skillet, melt the butter over medium heat.\n",
      "3. When the butter has melted, add the potatoes and eggplant. Cook for 5 minutes, stirring occasionally.\n",
      "4. Add the milk, salt, and pepper. Cook for an additional 5 minutes, stirring occasionally.\n",
      "5. Transfer the potato and eggplant mixture to a greased 9-inch pie plate.\n",
      "6. Arrange the fruit on top of the potato mixture.\n",
      "7. In a bowl, whisk together the eggs until\n"
     ]
    }
   ],
   "source": [
    "import openai\n",
    "\n",
    "# Set up your OpenAI API key\n",
    "openai.api_key = 'YOUR API KEY'\n",
    "\n",
    "# Function to generate a recipe using GPT-3.5\n",
    "def recipe_generator(ingredients):\n",
    "    # The prompt will be used to instruct the AI model to generate a recipe using the given ingredients.\n",
    "    prompt = f\"Generate a recipe using the following ingredients: {', '.join(ingredients)}.\"\n",
    "    response = openai.Completion.create(\n",
    "        engine='text-davinci-003', # Using davinci model \n",
    "        prompt=prompt, # Given input\n",
    "        max_tokens=200, # Limits the length of the generated recipe to 200 tokens (words or characters).\n",
    "        temperature=0.7, # Controls the randomness of the generated text. Higher values result in more randomness.  \n",
    "        n=1, # Specifies that only one completion (recipe) should be generated.\n",
    "        stop=None, # Specifies that the completion should not stop at any specific sequence of text.\n",
    "        timeout=10  # Sets a maximum time of 10 seconds for the completion request.\n",
    "    )\n",
    "     # Storing the generated recipe from the API response and removes any leading or trailing whitespace.\n",
    "    recipe = response.choices[0].text.strip()\n",
    "    # Return the recipe\n",
    "    return recipe\n",
    "\n",
    "# Get user input for ingredients\n",
    "user_input = input(\"Enter the ingredients (separate each ingredient with a space): \")\n",
    "user_ingredients = user_input.split()\n",
    "\n",
    "# Generate recipe based on user ingredients\n",
    "recipe = recipe_generator(user_ingredients)\n",
    "\n",
    "# Print the generated recipe\n",
    "print(\"Generated Recipe:\")\n",
    "print(recipe)\n"
   ]
  },
  {
   "cell_type": "code",
   "execution_count": null,
   "id": "0ad084aa",
   "metadata": {},
   "outputs": [],
   "source": []
  }
 ],
 "metadata": {
  "kernelspec": {
   "display_name": "Python 3 (ipykernel)",
   "language": "python",
   "name": "python3"
  },
  "language_info": {
   "codemirror_mode": {
    "name": "ipython",
    "version": 3
   },
   "file_extension": ".py",
   "mimetype": "text/x-python",
   "name": "python",
   "nbconvert_exporter": "python",
   "pygments_lexer": "ipython3",
   "version": "3.9.13"
  }
 },
 "nbformat": 4,
 "nbformat_minor": 5
}
